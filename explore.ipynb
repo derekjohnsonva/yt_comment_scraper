{
 "cells": [
  {
   "cell_type": "code",
   "execution_count": 8,
   "metadata": {},
   "outputs": [
    {
     "name": "stdout",
     "output_type": "stream",
     "text": [
      "Total comments: 209\n",
      "Filtered comments: 159\n"
     ]
    }
   ],
   "source": [
    "# parse the xml file\n",
    "import xml.etree.ElementTree as ET\n",
    "\n",
    "CHANNEL_ID = 'UCeQhm8DwHBg_YEYY0KGM1GQ'\n",
    "\n",
    "\n",
    "tree = ET.parse('comment_data.xml')\n",
    "root = tree.getroot()\n",
    "\n",
    "# return a smaller xml file that only contains the comment_threads\n",
    "# in which CHANNEL_ID replied to a comment\n",
    "\n",
    "# Create a new XML tree for the filtered data\n",
    "filtered_root = ET.Element(\"comments\")\n",
    "\n",
    "# Find comment threads where the specified CHANNEL_ID has replied\n",
    "for comment in root.findall(\"comment\"):\n",
    "    \n",
    "    # Check replies within the comment for matching CHANNEL_ID\n",
    "    replies = comment.find(\"replies\")\n",
    "    if replies is not None:\n",
    "        for reply in replies.findall(\"./reply\"):\n",
    "            reply_author_id = reply.find(\"authorChannelId\").text\n",
    "            if reply_author_id == CHANNEL_ID:\n",
    "                # Add the entire comment thread if a reply matches the CHANNEL_ID\n",
    "                filtered_root.append(comment)\n",
    "                break  # Stop further iteration for this comment\n",
    "\n",
    "# Create a new tree with the filtered data\n",
    "filtered_tree = ET.ElementTree(filtered_root)\n",
    "\n",
    "# Write the filtered data to a new XML file\n",
    "filtered_tree.write(\"filtered_comments.xml\")\n",
    "\n",
    "# Let me know how many comments were found out of the initial total\n",
    "print(\"Total comments: \" + str(len(root)))\n",
    "print(\"Filtered comments: \" + str(len(filtered_root)))\n",
    "\n",
    "\n",
    "\n",
    "\n"
   ]
  },
  {
   "cell_type": "code",
   "execution_count": null,
   "metadata": {},
   "outputs": [],
   "source": []
  }
 ],
 "metadata": {
  "kernelspec": {
   "display_name": "venv",
   "language": "python",
   "name": "python3"
  },
  "language_info": {
   "codemirror_mode": {
    "name": "ipython",
    "version": 3
   },
   "file_extension": ".py",
   "mimetype": "text/x-python",
   "name": "python",
   "nbconvert_exporter": "python",
   "pygments_lexer": "ipython3",
   "version": "3.10.12"
  }
 },
 "nbformat": 4,
 "nbformat_minor": 2
}
